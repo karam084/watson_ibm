{
    "cells": [
        {
            "cell_type": "markdown",
            "metadata": {},
            "source": "# Description\nfootball data analysis"
        },
        {
            "cell_type": "code",
            "execution_count": 2,
            "metadata": {},
            "outputs": [
                {
                    "data": {
                        "text/html": "<div>\n<style scoped>\n    .dataframe tbody tr th:only-of-type {\n        vertical-align: middle;\n    }\n\n    .dataframe tbody tr th {\n        vertical-align: top;\n    }\n\n    .dataframe thead th {\n        text-align: right;\n    }\n</style>\n<table border=\"1\" class=\"dataframe\">\n  <thead>\n    <tr style=\"text-align: right;\">\n      <th></th>\n      <th>team_name</th>\n      <th>common_name</th>\n      <th>season</th>\n      <th>country</th>\n      <th>matches_played</th>\n      <th>matches_played_home</th>\n      <th>matches_played_away</th>\n      <th>suspended_matches</th>\n      <th>wins</th>\n      <th>wins_home</th>\n      <th>...</th>\n      <th>goals_conceded_min_61_to_70</th>\n      <th>goals_conceded_min_71_to_80</th>\n      <th>goals_conceded_min_81_to_90</th>\n      <th>draw_percentage_overall</th>\n      <th>draw_percentage_home</th>\n      <th>draw_percentage_away</th>\n      <th>loss_percentage_ovearll</th>\n      <th>loss_percentage_home</th>\n      <th>loss_percentage_away</th>\n      <th>over145_corners_percentage</th>\n    </tr>\n  </thead>\n  <tbody>\n    <tr>\n      <th>0</th>\n      <td>Arsenal FC</td>\n      <td>Arsenal</td>\n      <td>2018/2019</td>\n      <td>England</td>\n      <td>38</td>\n      <td>19</td>\n      <td>19</td>\n      <td>0</td>\n      <td>21</td>\n      <td>14</td>\n      <td>...</td>\n      <td>12</td>\n      <td>1</td>\n      <td>8</td>\n      <td>18</td>\n      <td>16</td>\n      <td>21</td>\n      <td>26</td>\n      <td>11</td>\n      <td>42</td>\n      <td>5</td>\n    </tr>\n    <tr>\n      <th>1</th>\n      <td>Tottenham Hotspur FC</td>\n      <td>Tottenham Hotspur</td>\n      <td>2018/2019</td>\n      <td>England</td>\n      <td>38</td>\n      <td>19</td>\n      <td>19</td>\n      <td>0</td>\n      <td>23</td>\n      <td>12</td>\n      <td>...</td>\n      <td>4</td>\n      <td>8</td>\n      <td>10</td>\n      <td>5</td>\n      <td>11</td>\n      <td>0</td>\n      <td>34</td>\n      <td>26</td>\n      <td>42</td>\n      <td>11</td>\n    </tr>\n    <tr>\n      <th>2</th>\n      <td>Manchester City FC</td>\n      <td>Manchester City</td>\n      <td>2018/2019</td>\n      <td>England</td>\n      <td>38</td>\n      <td>19</td>\n      <td>19</td>\n      <td>0</td>\n      <td>32</td>\n      <td>18</td>\n      <td>...</td>\n      <td>4</td>\n      <td>2</td>\n      <td>3</td>\n      <td>5</td>\n      <td>0</td>\n      <td>11</td>\n      <td>11</td>\n      <td>5</td>\n      <td>16</td>\n      <td>5</td>\n    </tr>\n    <tr>\n      <th>3</th>\n      <td>Leicester City FC</td>\n      <td>Leicester City</td>\n      <td>2018/2019</td>\n      <td>England</td>\n      <td>38</td>\n      <td>19</td>\n      <td>19</td>\n      <td>0</td>\n      <td>15</td>\n      <td>8</td>\n      <td>...</td>\n      <td>7</td>\n      <td>1</td>\n      <td>9</td>\n      <td>18</td>\n      <td>16</td>\n      <td>21</td>\n      <td>42</td>\n      <td>42</td>\n      <td>42</td>\n      <td>5</td>\n    </tr>\n    <tr>\n      <th>4</th>\n      <td>Crystal Palace FC</td>\n      <td>Crystal Palace</td>\n      <td>2018/2019</td>\n      <td>England</td>\n      <td>38</td>\n      <td>19</td>\n      <td>19</td>\n      <td>0</td>\n      <td>14</td>\n      <td>5</td>\n      <td>...</td>\n      <td>8</td>\n      <td>8</td>\n      <td>11</td>\n      <td>18</td>\n      <td>26</td>\n      <td>11</td>\n      <td>45</td>\n      <td>47</td>\n      <td>42</td>\n      <td>11</td>\n    </tr>\n  </tbody>\n</table>\n<p>5 rows \u00d7 293 columns</p>\n</div>",
                        "text/plain": "              team_name        common_name     season  country  \\\n0            Arsenal FC            Arsenal  2018/2019  England   \n1  Tottenham Hotspur FC  Tottenham Hotspur  2018/2019  England   \n2    Manchester City FC    Manchester City  2018/2019  England   \n3     Leicester City FC     Leicester City  2018/2019  England   \n4     Crystal Palace FC     Crystal Palace  2018/2019  England   \n\n   matches_played  matches_played_home  matches_played_away  \\\n0              38                   19                   19   \n1              38                   19                   19   \n2              38                   19                   19   \n3              38                   19                   19   \n4              38                   19                   19   \n\n   suspended_matches  wins  wins_home  ...  goals_conceded_min_61_to_70  \\\n0                  0    21         14  ...                           12   \n1                  0    23         12  ...                            4   \n2                  0    32         18  ...                            4   \n3                  0    15          8  ...                            7   \n4                  0    14          5  ...                            8   \n\n   goals_conceded_min_71_to_80  goals_conceded_min_81_to_90  \\\n0                            1                            8   \n1                            8                           10   \n2                            2                            3   \n3                            1                            9   \n4                            8                           11   \n\n   draw_percentage_overall  draw_percentage_home  draw_percentage_away  \\\n0                       18                    16                    21   \n1                        5                    11                     0   \n2                        5                     0                    11   \n3                       18                    16                    21   \n4                       18                    26                    11   \n\n   loss_percentage_ovearll  loss_percentage_home  loss_percentage_away  \\\n0                       26                    11                    42   \n1                       34                    26                    42   \n2                       11                     5                    16   \n3                       42                    42                    42   \n4                       45                    47                    42   \n\n   over145_corners_percentage  \n0                           5  \n1                          11  \n2                           5  \n3                           5  \n4                          11  \n\n[5 rows x 293 columns]"
                    },
                    "execution_count": 2,
                    "metadata": {},
                    "output_type": "execute_result"
                }
            ],
            "source": "# The code was removed by Watson Studio for sharing."
        },
        {
            "cell_type": "code",
            "execution_count": null,
            "metadata": {},
            "outputs": [],
            "source": ""
        },
        {
            "cell_type": "code",
            "execution_count": null,
            "metadata": {},
            "outputs": [],
            "source": ""
        }
    ],
    "metadata": {
        "kernelspec": {
            "display_name": "Python 3.7",
            "language": "python",
            "name": "python3"
        },
        "language_info": {
            "codemirror_mode": {
                "name": "ipython",
                "version": 3
            },
            "file_extension": ".py",
            "mimetype": "text/x-python",
            "name": "python",
            "nbconvert_exporter": "python",
            "pygments_lexer": "ipython3",
            "version": "3.7.10"
        }
    },
    "nbformat": 4,
    "nbformat_minor": 1
}